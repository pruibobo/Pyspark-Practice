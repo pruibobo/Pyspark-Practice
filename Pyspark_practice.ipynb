{
 "cells": [
  {
   "cell_type": "code",
   "execution_count": 1,
   "id": "1ce76a08",
   "metadata": {},
   "outputs": [
    {
     "name": "stdout",
     "output_type": "stream",
     "text": [
      "Requirement already satisfied: pyspark in /Users/pruibobo/miniconda3/lib/python3.8/site-packages (3.1.2)\r\n",
      "Requirement already satisfied: py4j==0.10.9 in /Users/pruibobo/miniconda3/lib/python3.8/site-packages (from pyspark) (0.10.9)\r\n"
     ]
    }
   ],
   "source": [
    "!pip install pyspark"
   ]
  },
  {
   "cell_type": "code",
   "execution_count": 2,
   "id": "a744c770",
   "metadata": {},
   "outputs": [],
   "source": [
    "import pyspark"
   ]
  },
  {
   "cell_type": "code",
   "execution_count": 3,
   "id": "4390f072",
   "metadata": {},
   "outputs": [
    {
     "data": {
      "text/html": [
       "<div>\n",
       "<style scoped>\n",
       "    .dataframe tbody tr th:only-of-type {\n",
       "        vertical-align: middle;\n",
       "    }\n",
       "\n",
       "    .dataframe tbody tr th {\n",
       "        vertical-align: top;\n",
       "    }\n",
       "\n",
       "    .dataframe thead th {\n",
       "        text-align: right;\n",
       "    }\n",
       "</style>\n",
       "<table border=\"1\" class=\"dataframe\">\n",
       "  <thead>\n",
       "    <tr style=\"text-align: right;\">\n",
       "      <th></th>\n",
       "      <th>Name</th>\n",
       "      <th>Age</th>\n",
       "    </tr>\n",
       "  </thead>\n",
       "  <tbody>\n",
       "    <tr>\n",
       "      <th>0</th>\n",
       "      <td>PR</td>\n",
       "      <td>22</td>\n",
       "    </tr>\n",
       "    <tr>\n",
       "      <th>1</th>\n",
       "      <td>CS</td>\n",
       "      <td>35</td>\n",
       "    </tr>\n",
       "    <tr>\n",
       "      <th>2</th>\n",
       "      <td>JX</td>\n",
       "      <td>23</td>\n",
       "    </tr>\n",
       "    <tr>\n",
       "      <th>3</th>\n",
       "      <td>Tony</td>\n",
       "      <td>23</td>\n",
       "    </tr>\n",
       "  </tbody>\n",
       "</table>\n",
       "</div>"
      ],
      "text/plain": [
       "   Name  Age\n",
       "0    PR   22\n",
       "1    CS   35\n",
       "2    JX   23\n",
       "3  Tony   23"
      ]
     },
     "execution_count": 3,
     "metadata": {},
     "output_type": "execute_result"
    }
   ],
   "source": [
    "import pandas as pd\n",
    "pd.read_csv('test1.csv')"
   ]
  },
  {
   "cell_type": "code",
   "execution_count": 4,
   "id": "a646c13f",
   "metadata": {},
   "outputs": [],
   "source": [
    "from pyspark.sql import SparkSession"
   ]
  },
  {
   "cell_type": "code",
   "execution_count": 5,
   "id": "8b260f9a",
   "metadata": {},
   "outputs": [],
   "source": [
    "spark = SparkSession.builder.appName('Practice').getOrCreate()"
   ]
  },
  {
   "cell_type": "code",
   "execution_count": 6,
   "id": "d220531c",
   "metadata": {},
   "outputs": [
    {
     "data": {
      "text/html": [
       "\n",
       "            <div>\n",
       "                <p><b>SparkSession - in-memory</b></p>\n",
       "                \n",
       "        <div>\n",
       "            <p><b>SparkContext</b></p>\n",
       "\n",
       "            <p><a href=\"http://10.169.0.14:4040\">Spark UI</a></p>\n",
       "\n",
       "            <dl>\n",
       "              <dt>Version</dt>\n",
       "                <dd><code>v3.1.2</code></dd>\n",
       "              <dt>Master</dt>\n",
       "                <dd><code>local[*]</code></dd>\n",
       "              <dt>AppName</dt>\n",
       "                <dd><code>Practice</code></dd>\n",
       "            </dl>\n",
       "        </div>\n",
       "        \n",
       "            </div>\n",
       "        "
      ],
      "text/plain": [
       "<pyspark.sql.session.SparkSession at 0x7fbec09f3760>"
      ]
     },
     "execution_count": 6,
     "metadata": {},
     "output_type": "execute_result"
    }
   ],
   "source": [
    "spark"
   ]
  },
  {
   "cell_type": "code",
   "execution_count": 7,
   "id": "84a0903c",
   "metadata": {},
   "outputs": [],
   "source": [
    "df_pyspark = spark.read.csv('test1.csv',header = True, inferSchema = True)"
   ]
  },
  {
   "cell_type": "code",
   "execution_count": 8,
   "id": "118e072a",
   "metadata": {},
   "outputs": [
    {
     "data": {
      "text/plain": [
       "pyspark.sql.dataframe.DataFrame"
      ]
     },
     "execution_count": 8,
     "metadata": {},
     "output_type": "execute_result"
    }
   ],
   "source": [
    "type(df_pyspark)"
   ]
  },
  {
   "cell_type": "code",
   "execution_count": 9,
   "id": "0278775d",
   "metadata": {},
   "outputs": [
    {
     "data": {
      "text/plain": [
       "[Row(Name='PR', Age=22), Row(Name='CS', Age=35), Row(Name='JX', Age=23)]"
      ]
     },
     "execution_count": 9,
     "metadata": {},
     "output_type": "execute_result"
    }
   ],
   "source": [
    "df_pyspark.head(3)"
   ]
  },
  {
   "cell_type": "code",
   "execution_count": 10,
   "id": "0c08eded",
   "metadata": {},
   "outputs": [
    {
     "name": "stdout",
     "output_type": "stream",
     "text": [
      "root\n",
      " |-- Name: string (nullable = true)\n",
      " |-- Age: integer (nullable = true)\n",
      "\n"
     ]
    }
   ],
   "source": [
    "df_pyspark.printSchema()"
   ]
  },
  {
   "cell_type": "code",
   "execution_count": 11,
   "id": "57d798c9",
   "metadata": {},
   "outputs": [
    {
     "data": {
      "text/plain": [
       "['Name', 'Age']"
      ]
     },
     "execution_count": 11,
     "metadata": {},
     "output_type": "execute_result"
    }
   ],
   "source": [
    "df_pyspark.columns"
   ]
  },
  {
   "cell_type": "code",
   "execution_count": 12,
   "id": "29fa69d6",
   "metadata": {},
   "outputs": [
    {
     "name": "stdout",
     "output_type": "stream",
     "text": [
      "+----+---+\n",
      "|Name|Age|\n",
      "+----+---+\n",
      "|  PR| 22|\n",
      "|  CS| 35|\n",
      "|  JX| 23|\n",
      "|Tony| 23|\n",
      "+----+---+\n",
      "\n"
     ]
    }
   ],
   "source": [
    "df_pyspark.show()"
   ]
  },
  {
   "cell_type": "code",
   "execution_count": 13,
   "id": "8adf2514",
   "metadata": {},
   "outputs": [
    {
     "name": "stdout",
     "output_type": "stream",
     "text": [
      "+----+---+\n",
      "|Name|Age|\n",
      "+----+---+\n",
      "|  PR| 22|\n",
      "|  CS| 35|\n",
      "|  JX| 23|\n",
      "|Tony| 23|\n",
      "+----+---+\n",
      "\n"
     ]
    }
   ],
   "source": [
    "df_pyspark.select(['Name','Age']).show()"
   ]
  },
  {
   "cell_type": "code",
   "execution_count": 14,
   "id": "251f5796",
   "metadata": {},
   "outputs": [
    {
     "data": {
      "text/plain": [
       "[('Name', 'string'), ('Age', 'int')]"
      ]
     },
     "execution_count": 14,
     "metadata": {},
     "output_type": "execute_result"
    }
   ],
   "source": [
    "df_pyspark.dtypes"
   ]
  },
  {
   "cell_type": "code",
   "execution_count": 15,
   "id": "8fa0bef4",
   "metadata": {},
   "outputs": [
    {
     "name": "stdout",
     "output_type": "stream",
     "text": [
      "+-------+----+-----------------+\n",
      "|summary|Name|              Age|\n",
      "+-------+----+-----------------+\n",
      "|  count|   4|                4|\n",
      "|   mean|null|            25.75|\n",
      "| stddev|null|6.184658438426491|\n",
      "|    min|  CS|               22|\n",
      "|    max|Tony|               35|\n",
      "+-------+----+-----------------+\n",
      "\n"
     ]
    }
   ],
   "source": [
    "df_pyspark.describe().show()"
   ]
  },
  {
   "cell_type": "code",
   "execution_count": 16,
   "id": "ca5ae215",
   "metadata": {},
   "outputs": [],
   "source": [
    "### Add columns in data frame\n",
    "df_pyspark = df_pyspark.withColumn('Age After 2 years',df_pyspark['Age'] + 2)"
   ]
  },
  {
   "cell_type": "code",
   "execution_count": 17,
   "id": "d1b0d2bb",
   "metadata": {},
   "outputs": [
    {
     "name": "stdout",
     "output_type": "stream",
     "text": [
      "+----+---+-----------------+\n",
      "|Name|Age|Age After 2 years|\n",
      "+----+---+-----------------+\n",
      "|  PR| 22|               24|\n",
      "|  CS| 35|               37|\n",
      "|  JX| 23|               25|\n",
      "|Tony| 23|               25|\n",
      "+----+---+-----------------+\n",
      "\n"
     ]
    }
   ],
   "source": [
    "df_pyspark.show()"
   ]
  },
  {
   "cell_type": "code",
   "execution_count": 18,
   "id": "23ded9ac",
   "metadata": {},
   "outputs": [],
   "source": [
    "### Drop the columns\n",
    "df_pyspark = df_pyspark.drop('Age after 2 years')"
   ]
  },
  {
   "cell_type": "code",
   "execution_count": 19,
   "id": "52ae0ead",
   "metadata": {},
   "outputs": [
    {
     "name": "stdout",
     "output_type": "stream",
     "text": [
      "+----+---+\n",
      "|Name|Age|\n",
      "+----+---+\n",
      "|  PR| 22|\n",
      "|  CS| 35|\n",
      "|  JX| 23|\n",
      "|Tony| 23|\n",
      "+----+---+\n",
      "\n"
     ]
    }
   ],
   "source": [
    "df_pyspark.show()"
   ]
  },
  {
   "cell_type": "code",
   "execution_count": 20,
   "id": "0345bd31",
   "metadata": {},
   "outputs": [
    {
     "name": "stdout",
     "output_type": "stream",
     "text": [
      "+--------+---+\n",
      "|New Name|Age|\n",
      "+--------+---+\n",
      "|      PR| 22|\n",
      "|      CS| 35|\n",
      "|      JX| 23|\n",
      "|    Tony| 23|\n",
      "+--------+---+\n",
      "\n"
     ]
    }
   ],
   "source": [
    "### Rename the columns\n",
    "df_pyspark.withColumnRenamed('Name','New Name').show()"
   ]
  },
  {
   "cell_type": "code",
   "execution_count": 21,
   "id": "9f81f87c",
   "metadata": {},
   "outputs": [],
   "source": [
    "### Handling missing values\n",
    "df_spark1 = spark.read.csv('test2.csv',header = True, inferSchema = True)"
   ]
  },
  {
   "cell_type": "code",
   "execution_count": 22,
   "id": "26335482",
   "metadata": {},
   "outputs": [
    {
     "name": "stdout",
     "output_type": "stream",
     "text": [
      "+-----+----+----+------+\n",
      "|Name | Age| Exp|Salary|\n",
      "+-----+----+----+------+\n",
      "|   PR|  31|  10| 20000|\n",
      "|   JX|  23|   2| 10000|\n",
      "| TONY|  23|   3| 40000|\n",
      "|   CS|  21|   6| 40000|\n",
      "|   KW|  33|   7| 20000|\n",
      "|   SZ|null|null| 70000|\n",
      "| null|  34|   8| 80000|\n",
      "| null|  35|null|  null|\n",
      "+-----+----+----+------+\n",
      "\n"
     ]
    }
   ],
   "source": [
    "df_spark1.show()"
   ]
  },
  {
   "cell_type": "code",
   "execution_count": 23,
   "id": "e401b899",
   "metadata": {},
   "outputs": [
    {
     "name": "stdout",
     "output_type": "stream",
     "text": [
      "+-----+---+---+------+\n",
      "|Name |Age|Exp|Salary|\n",
      "+-----+---+---+------+\n",
      "|   PR| 31| 10| 20000|\n",
      "|   JX| 23|  2| 10000|\n",
      "| TONY| 23|  3| 40000|\n",
      "|   CS| 21|  6| 40000|\n",
      "|   KW| 33|  7| 20000|\n",
      "+-----+---+---+------+\n",
      "\n"
     ]
    }
   ],
   "source": [
    "df_spark1.na.drop().show()"
   ]
  },
  {
   "cell_type": "code",
   "execution_count": 24,
   "id": "98f133e0",
   "metadata": {},
   "outputs": [
    {
     "name": "stdout",
     "output_type": "stream",
     "text": [
      "+-----+----+----+------+\n",
      "|Name | Age| Exp|Salary|\n",
      "+-----+----+----+------+\n",
      "|   PR|  31|  10| 20000|\n",
      "|   JX|  23|   2| 10000|\n",
      "| TONY|  23|   3| 40000|\n",
      "|   CS|  21|   6| 40000|\n",
      "|   KW|  33|   7| 20000|\n",
      "|   SZ|null|null| 70000|\n",
      "| null|  34|   8| 80000|\n",
      "| null|  35|null|  null|\n",
      "+-----+----+----+------+\n",
      "\n"
     ]
    }
   ],
   "source": [
    "### all==how\n",
    "df_spark1.na.drop(how = 'all').show()"
   ]
  },
  {
   "cell_type": "code",
   "execution_count": 25,
   "id": "3820048e",
   "metadata": {},
   "outputs": [
    {
     "name": "stdout",
     "output_type": "stream",
     "text": [
      "+-----+---+---+------+\n",
      "|Name |Age|Exp|Salary|\n",
      "+-----+---+---+------+\n",
      "|   PR| 31| 10| 20000|\n",
      "|   JX| 23|  2| 10000|\n",
      "| TONY| 23|  3| 40000|\n",
      "|   CS| 21|  6| 40000|\n",
      "|   KW| 33|  7| 20000|\n",
      "+-----+---+---+------+\n",
      "\n"
     ]
    }
   ],
   "source": [
    "### how == any\n",
    "df_spark1.na.drop(how = 'any').show()"
   ]
  },
  {
   "cell_type": "code",
   "execution_count": 26,
   "id": "b2824ce9",
   "metadata": {},
   "outputs": [
    {
     "name": "stdout",
     "output_type": "stream",
     "text": [
      "+-----+----+----+------+\n",
      "|Name | Age| Exp|Salary|\n",
      "+-----+----+----+------+\n",
      "|   PR|  31|  10| 20000|\n",
      "|   JX|  23|   2| 10000|\n",
      "| TONY|  23|   3| 40000|\n",
      "|   CS|  21|   6| 40000|\n",
      "|   KW|  33|   7| 20000|\n",
      "|   SZ|null|null| 70000|\n",
      "| null|  34|   8| 80000|\n",
      "+-----+----+----+------+\n",
      "\n"
     ]
    }
   ],
   "source": [
    "### Threshhold\n",
    "df_spark1.na.drop(how = 'any',thresh = 2).show()"
   ]
  },
  {
   "cell_type": "code",
   "execution_count": 27,
   "id": "f79aca68",
   "metadata": {},
   "outputs": [
    {
     "name": "stdout",
     "output_type": "stream",
     "text": [
      "+-----+---+----+------+\n",
      "|Name |Age| Exp|Salary|\n",
      "+-----+---+----+------+\n",
      "|   PR| 31|  10| 20000|\n",
      "|   JX| 23|   2| 10000|\n",
      "| TONY| 23|   3| 40000|\n",
      "|   CS| 21|   6| 40000|\n",
      "|   KW| 33|   7| 20000|\n",
      "| null| 34|   8| 80000|\n",
      "| null| 35|null|  null|\n",
      "+-----+---+----+------+\n",
      "\n"
     ]
    }
   ],
   "source": [
    "### Subset\n",
    "df_spark1.na.drop(how = 'any', subset = ['Age']).show()"
   ]
  },
  {
   "cell_type": "code",
   "execution_count": 28,
   "id": "13b3468e",
   "metadata": {},
   "outputs": [
    {
     "name": "stdout",
     "output_type": "stream",
     "text": [
      "+-----+----+----+------+\n",
      "|Name | Age| Exp|Salary|\n",
      "+-----+----+----+------+\n",
      "|   PR|  31|  10| 20000|\n",
      "|   JX|  23|   2| 10000|\n",
      "| TONY|  23|   3| 40000|\n",
      "|   CS|  21|   6| 40000|\n",
      "|   KW|  33|   7| 20000|\n",
      "|   SZ|null|null| 70000|\n",
      "| null|  34|   8| 80000|\n",
      "| null|  35|null|  null|\n",
      "+-----+----+----+------+\n",
      "\n"
     ]
    }
   ],
   "source": [
    "df_spark1.na.fill('2',['Exp','Age']).show()"
   ]
  },
  {
   "cell_type": "code",
   "execution_count": 29,
   "id": "c5445cf0",
   "metadata": {},
   "outputs": [],
   "source": [
    "from pyspark.ml.feature import Imputer\n",
    "\n",
    "imputer = Imputer(\n",
    "    inputCols = ['Age','Exp','Salary'],\n",
    "    outputCols = ['{}_imputed'.format(c) for c in ['Age','Exp','Salary']]\n",
    ").setStrategy('mean')"
   ]
  },
  {
   "cell_type": "code",
   "execution_count": 30,
   "id": "c800d286",
   "metadata": {},
   "outputs": [
    {
     "name": "stdout",
     "output_type": "stream",
     "text": [
      "+-----+----+----+------+-----------+-----------+--------------+\n",
      "|Name | Age| Exp|Salary|Age_imputed|Exp_imputed|Salary_imputed|\n",
      "+-----+----+----+------+-----------+-----------+--------------+\n",
      "|   PR|  31|  10| 20000|         31|         10|         20000|\n",
      "|   JX|  23|   2| 10000|         23|          2|         10000|\n",
      "| TONY|  23|   3| 40000|         23|          3|         40000|\n",
      "|   CS|  21|   6| 40000|         21|          6|         40000|\n",
      "|   KW|  33|   7| 20000|         33|          7|         20000|\n",
      "|   SZ|null|null| 70000|         28|          6|         70000|\n",
      "| null|  34|   8| 80000|         34|          8|         80000|\n",
      "| null|  35|null|  null|         35|          6|         40000|\n",
      "+-----+----+----+------+-----------+-----------+--------------+\n",
      "\n"
     ]
    }
   ],
   "source": [
    "imputer.fit(df_spark1).transform(df_spark1).show()"
   ]
  },
  {
   "cell_type": "code",
   "execution_count": 31,
   "id": "0b4a81ba",
   "metadata": {},
   "outputs": [],
   "source": [
    "df_spark2 = spark.read.csv('test3.csv',header = True, inferSchema = True)"
   ]
  },
  {
   "cell_type": "code",
   "execution_count": 32,
   "id": "82cd0ca6",
   "metadata": {},
   "outputs": [
    {
     "name": "stdout",
     "output_type": "stream",
     "text": [
      "+----+---+---+------+\n",
      "|Name|Age|Exp|Salary|\n",
      "+----+---+---+------+\n",
      "|  PR| 31| 10| 20000|\n",
      "|  JX| 23|  2| 10000|\n",
      "|TONY| 23|  3| 40000|\n",
      "|  CS| 21|  6| 40000|\n",
      "|  KW| 33|  7| 20000|\n",
      "|  SZ| 29|  8| 70000|\n",
      "+----+---+---+------+\n",
      "\n"
     ]
    }
   ],
   "source": [
    "df_spark2.show()"
   ]
  },
  {
   "cell_type": "code",
   "execution_count": 33,
   "id": "565d446e",
   "metadata": {},
   "outputs": [
    {
     "name": "stdout",
     "output_type": "stream",
     "text": [
      "+----+---+---+------+\n",
      "|Name|Age|Exp|Salary|\n",
      "+----+---+---+------+\n",
      "|  PR| 31| 10| 20000|\n",
      "|  JX| 23|  2| 10000|\n",
      "|TONY| 23|  3| 40000|\n",
      "|  CS| 21|  6| 40000|\n",
      "|  KW| 33|  7| 20000|\n",
      "|  SZ| 29|  8| 70000|\n",
      "+----+---+---+------+\n",
      "\n"
     ]
    }
   ],
   "source": [
    "df_spark2.filter((df_spark2['Salary'] <= 20000) |\n",
    "                 (df_spark2['Salary'] >= 40000)\n",
    "                ).show()"
   ]
  }
 ],
 "metadata": {
  "kernelspec": {
   "display_name": "Python 3",
   "language": "python",
   "name": "python3"
  },
  "language_info": {
   "codemirror_mode": {
    "name": "ipython",
    "version": 3
   },
   "file_extension": ".py",
   "mimetype": "text/x-python",
   "name": "python",
   "nbconvert_exporter": "python",
   "pygments_lexer": "ipython3",
   "version": "3.8.10"
  }
 },
 "nbformat": 4,
 "nbformat_minor": 5
}
